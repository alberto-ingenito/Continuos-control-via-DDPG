{
 "cells": [
  {
   "cell_type": "markdown",
   "metadata": {},
   "source": [
    "# Continuous Control\n",
    "\n",
    "---\n",
    "\n",
    "In this notebook, you will learn how to use the Unity ML-Agents environment for the second project of the [Deep Reinforcement Learning Nanodegree](https://www.udacity.com/course/deep-reinforcement-learning-nanodegree--nd893) program.\n",
    "\n",
    "### 1. Start the Environment\n",
    "\n",
    "We begin by importing the necessary packages.  If the code cell below returns an error, please revisit the project instructions to double-check that you have installed [Unity ML-Agents](https://github.com/Unity-Technologies/ml-agents/blob/master/docs/Installation.md) and [NumPy](http://www.numpy.org/)."
   ]
  },
  {
   "cell_type": "code",
   "execution_count": 1,
   "metadata": {},
   "outputs": [],
   "source": [
    "from unityagents import UnityEnvironment\n",
    "import numpy as np"
   ]
  },
  {
   "cell_type": "markdown",
   "metadata": {},
   "source": [
    "Next, we will start the environment!  **_Before running the code cell below_**, change the `file_name` parameter to match the location of the Unity environment that you downloaded.\n",
    "\n",
    "- **Mac**: `\"path/to/Reacher.app\"`\n",
    "- **Windows** (x86): `\"path/to/Reacher_Windows_x86/Reacher.exe\"`\n",
    "- **Windows** (x86_64): `\"path/to/Reacher_Windows_x86_64/Reacher.exe\"`\n",
    "- **Linux** (x86): `\"path/to/Reacher_Linux/Reacher.x86\"`\n",
    "- **Linux** (x86_64): `\"path/to/Reacher_Linux/Reacher.x86_64\"`\n",
    "- **Linux** (x86, headless): `\"path/to/Reacher_Linux_NoVis/Reacher.x86\"`\n",
    "- **Linux** (x86_64, headless): `\"path/to/Reacher_Linux_NoVis/Reacher.x86_64\"`\n",
    "\n",
    "For instance, if you are using a Mac, then you downloaded `Reacher.app`.  If this file is in the same folder as the notebook, then the line below should appear as follows:\n",
    "```\n",
    "env = UnityEnvironment(file_name=\"Reacher.app\")\n",
    "```"
   ]
  },
  {
   "cell_type": "code",
   "execution_count": 2,
   "metadata": {},
   "outputs": [
    {
     "name": "stderr",
     "output_type": "stream",
     "text": [
      "INFO:unityagents:\n",
      "'Academy' started successfully!\n",
      "Unity Academy name: Academy\n",
      "        Number of Brains: 1\n",
      "        Number of External Brains : 1\n",
      "        Lesson number : 0\n",
      "        Reset Parameters :\n",
      "\t\tgoal_speed -> 1.0\n",
      "\t\tgoal_size -> 5.0\n",
      "Unity brain name: ReacherBrain\n",
      "        Number of Visual Observations (per agent): 0\n",
      "        Vector Observation space type: continuous\n",
      "        Vector Observation space size (per agent): 33\n",
      "        Number of stacked Vector Observation: 1\n",
      "        Vector Action space type: continuous\n",
      "        Vector Action space size (per agent): 4\n",
      "        Vector Action descriptions: , , , \n"
     ]
    }
   ],
   "source": [
    "env = UnityEnvironment(file_name='Reacher_Windows_x86_64\\Reacher.exe')"
   ]
  },
  {
   "cell_type": "markdown",
   "metadata": {},
   "source": [
    "Environments contain **_brains_** which are responsible for deciding the actions of their associated agents. Here we check for the first brain available, and set it as the default brain we will be controlling from Python."
   ]
  },
  {
   "cell_type": "code",
   "execution_count": 3,
   "metadata": {},
   "outputs": [],
   "source": [
    "# get the default brain\n",
    "brain_name = env.brain_names[0]\n",
    "brain = env.brains[brain_name]"
   ]
  },
  {
   "cell_type": "markdown",
   "metadata": {},
   "source": [
    "### 2. Examine the State and Action Spaces\n",
    "\n",
    "In this environment, a double-jointed arm can move to target locations. A reward of `+0.1` is provided for each step that the agent's hand is in the goal location. Thus, the goal of your agent is to maintain its position at the target location for as many time steps as possible.\n",
    "\n",
    "The observation space consists of `33` variables corresponding to position, rotation, velocity, and angular velocities of the arm.  Each action is a vector with four numbers, corresponding to torque applicable to two joints.  Every entry in the action vector must be a number between `-1` and `1`.\n",
    "\n",
    "Run the code cell below to print some information about the environment."
   ]
  },
  {
   "cell_type": "code",
   "execution_count": 4,
   "metadata": {},
   "outputs": [
    {
     "name": "stdout",
     "output_type": "stream",
     "text": [
      "Number of agents: 20\n",
      "Size of each action: 4\n",
      "There are 20 agents. Each observes a state with length: 33\n",
      "The state for the first agent looks like: [ 0.00000000e+00 -4.00000000e+00  0.00000000e+00  1.00000000e+00\n",
      " -0.00000000e+00 -0.00000000e+00 -4.37113883e-08  0.00000000e+00\n",
      "  0.00000000e+00  0.00000000e+00  0.00000000e+00  0.00000000e+00\n",
      "  0.00000000e+00  0.00000000e+00 -1.00000000e+01  0.00000000e+00\n",
      "  1.00000000e+00 -0.00000000e+00 -0.00000000e+00 -4.37113883e-08\n",
      "  0.00000000e+00  0.00000000e+00  0.00000000e+00  0.00000000e+00\n",
      "  0.00000000e+00  0.00000000e+00  5.75471878e+00 -1.00000000e+00\n",
      "  5.55726624e+00  0.00000000e+00  1.00000000e+00  0.00000000e+00\n",
      " -1.68164849e-01]\n"
     ]
    }
   ],
   "source": [
    "# reset the environment\n",
    "env_info = env.reset(train_mode=True)[brain_name]\n",
    "\n",
    "# number of agents\n",
    "num_agents = len(env_info.agents)\n",
    "print('Number of agents:', num_agents)\n",
    "\n",
    "# size of each action\n",
    "action_size = brain.vector_action_space_size\n",
    "print('Size of each action:', action_size)\n",
    "\n",
    "# examine the state space \n",
    "states = env_info.vector_observations\n",
    "state_size = states.shape[1]\n",
    "print('There are {} agents. Each observes a state with length: {}'.format(states.shape[0], state_size))\n",
    "print('The state for the first agent looks like:', states[0])\n"
   ]
  },
  {
   "cell_type": "markdown",
   "metadata": {},
   "source": [
    "### 3. Take Random Actions in the Environment\n",
    "\n",
    "In the next code cell, you will learn how to use the Python API to control the agent and receive feedback from the environment.\n",
    "\n",
    "Once this cell is executed, you will watch the agent's performance, if it selects an action at random with each time step.  A window should pop up that allows you to observe the agent, as it moves through the environment.  \n",
    "\n",
    "Of course, as part of the project, you'll have to change the code so that the agent is able to use its experience to gradually choose better actions when interacting with the environment!"
   ]
  },
  {
   "cell_type": "code",
   "execution_count": 5,
   "metadata": {},
   "outputs": [
    {
     "name": "stdout",
     "output_type": "stream",
     "text": [
      "self.actor_local(states) tensor(1.00000e-02 *\n",
      "       [[-9.1621,  7.3101, -1.0981, -3.7512],\n",
      "        [-9.1592,  7.2982, -1.0979, -3.8348],\n",
      "        [-8.6296,  6.9680, -0.4974, -4.1725],\n",
      "        [-8.8840,  7.0379, -0.7281, -3.7234],\n",
      "        [-9.1362,  7.2854, -1.1237, -3.7574],\n",
      "        [-8.6349,  6.9465, -0.4770, -4.2003],\n",
      "        [-8.7237,  7.0367, -0.9192, -4.2569],\n",
      "        [-8.9526,  6.9858, -0.6863, -3.7135],\n",
      "        [-9.1217,  7.1012, -0.7903, -3.6222],\n",
      "        [-8.6403,  7.1142, -0.7072, -4.2691],\n",
      "        [-8.6304,  6.9574, -0.4969, -4.1780],\n",
      "        [-8.6689,  7.0843, -0.8425, -4.2838],\n",
      "        [-9.0802,  7.0318, -0.7940, -3.5873],\n",
      "        [-9.1077,  7.2580, -1.0741, -3.9142],\n",
      "        [-9.1289,  7.1411, -0.8398, -3.6346],\n",
      "        [-8.6245,  7.0969, -0.5995, -4.2688],\n",
      "        [-9.1106,  7.0625, -0.7667, -3.6211],\n",
      "        [-8.8676,  7.0608, -0.7441, -3.7279],\n",
      "        [-8.9078,  7.1217, -0.9484, -4.0991],\n",
      "        [-9.1567,  7.2962, -1.0818, -3.7123]])\n",
      "self.actor_local(states).cpu() tensor(1.00000e-02 *\n",
      "       [[-9.1621,  7.3101, -1.0981, -3.7512],\n",
      "        [-9.1592,  7.2982, -1.0979, -3.8348],\n",
      "        [-8.6296,  6.9680, -0.4974, -4.1725],\n",
      "        [-8.8840,  7.0379, -0.7281, -3.7234],\n",
      "        [-9.1362,  7.2854, -1.1237, -3.7574],\n",
      "        [-8.6349,  6.9465, -0.4770, -4.2003],\n",
      "        [-8.7237,  7.0367, -0.9192, -4.2569],\n",
      "        [-8.9526,  6.9858, -0.6863, -3.7135],\n",
      "        [-9.1217,  7.1012, -0.7903, -3.6222],\n",
      "        [-8.6403,  7.1142, -0.7072, -4.2691],\n",
      "        [-8.6304,  6.9574, -0.4969, -4.1780],\n",
      "        [-8.6689,  7.0843, -0.8425, -4.2838],\n",
      "        [-9.0802,  7.0318, -0.7940, -3.5873],\n",
      "        [-9.1077,  7.2580, -1.0741, -3.9142],\n",
      "        [-9.1289,  7.1411, -0.8398, -3.6346],\n",
      "        [-8.6245,  7.0969, -0.5995, -4.2688],\n",
      "        [-9.1106,  7.0625, -0.7667, -3.6211],\n",
      "        [-8.8676,  7.0608, -0.7441, -3.7279],\n",
      "        [-8.9078,  7.1217, -0.9484, -4.0991],\n",
      "        [-9.1567,  7.2962, -1.0818, -3.7123]])\n",
      "self.actor_local(states).cpu().data tensor(1.00000e-02 *\n",
      "       [[-9.1621,  7.3101, -1.0981, -3.7512],\n",
      "        [-9.1592,  7.2982, -1.0979, -3.8348],\n",
      "        [-8.6296,  6.9680, -0.4974, -4.1725],\n",
      "        [-8.8840,  7.0379, -0.7281, -3.7234],\n",
      "        [-9.1362,  7.2854, -1.1237, -3.7574],\n",
      "        [-8.6349,  6.9465, -0.4770, -4.2003],\n",
      "        [-8.7237,  7.0367, -0.9192, -4.2569],\n",
      "        [-8.9526,  6.9858, -0.6863, -3.7135],\n",
      "        [-9.1217,  7.1012, -0.7903, -3.6222],\n",
      "        [-8.6403,  7.1142, -0.7072, -4.2691],\n",
      "        [-8.6304,  6.9574, -0.4969, -4.1780],\n",
      "        [-8.6689,  7.0843, -0.8425, -4.2838],\n",
      "        [-9.0802,  7.0318, -0.7940, -3.5873],\n",
      "        [-9.1077,  7.2580, -1.0741, -3.9142],\n",
      "        [-9.1289,  7.1411, -0.8398, -3.6346],\n",
      "        [-8.6245,  7.0969, -0.5995, -4.2688],\n",
      "        [-9.1106,  7.0625, -0.7667, -3.6211],\n",
      "        [-8.8676,  7.0608, -0.7441, -3.7279],\n",
      "        [-8.9078,  7.1217, -0.9484, -4.0991],\n",
      "        [-9.1567,  7.2962, -1.0818, -3.7123]])\n",
      "self.actor_local(states).cpu().data.numpy() [[-0.09162121  0.07310058 -0.01098082 -0.03751151]\n",
      " [-0.09159187  0.07298162 -0.01097939 -0.03834818]\n",
      " [-0.08629613  0.06967979 -0.00497415 -0.04172491]\n",
      " [-0.08883984  0.07037853 -0.00728059 -0.03723446]\n",
      " [-0.09136228  0.07285386 -0.01123733 -0.03757406]\n",
      " [-0.08634941  0.06946451 -0.00477036 -0.04200316]\n",
      " [-0.08723662  0.070367   -0.00919202 -0.04256865]\n",
      " [-0.08952584  0.06985829 -0.00686282 -0.03713492]\n",
      " [-0.09121653  0.07101157 -0.00790303 -0.03622245]\n",
      " [-0.08640333  0.07114197 -0.00707186 -0.04269136]\n",
      " [-0.08630388  0.06957418 -0.00496859 -0.04177988]\n",
      " [-0.08668876  0.07084348 -0.00842465 -0.04283794]\n",
      " [-0.09080174  0.07031828 -0.00794027 -0.03587274]\n",
      " [-0.09107669  0.07257986 -0.01074117 -0.03914218]\n",
      " [-0.09128939  0.0714114  -0.00839822 -0.03634568]\n",
      " [-0.0862452   0.07096916 -0.00599526 -0.04268847]\n",
      " [-0.09110648  0.07062498 -0.00766696 -0.03621145]\n",
      " [-0.08867593  0.07060768 -0.00744093 -0.03727854]\n",
      " [-0.0890778   0.07121735 -0.00948428 -0.0409913 ]\n",
      " [-0.09156718  0.07296184 -0.01081832 -0.03712326]]\n",
      "\r",
      "Episode 1\tAverage Score (over agents): 0.00"
     ]
    }
   ],
   "source": [
    "from cc_ddpg_agent import Agents\n",
    "from collections import deque\n",
    "import torch\n",
    "\n",
    "n_episodes=1\n",
    "max_t=1\n",
    "desired_score=30\n",
    "\n",
    "agents = Agents(num_agents, state_size, action_size, 4109)\n",
    "\n",
    "scores = []                        # list containing scores from each episode\n",
    "scores_window = deque(maxlen=100)  # last 100 scores\n",
    "score = 0\n",
    "\n",
    "for i_episode in range(1, n_episodes+1): \n",
    "\n",
    "    env_info = env.reset(train_mode=True)[brain_name]      # reset the environment    \n",
    "    states = env_info.vector_observations                  # get the current state (for each agent)\n",
    "    score = np.zeros(num_agents)                          # initialize the score (for each agent)\n",
    "\n",
    "    for t in range(max_t):\n",
    "        actions     = agents.act(states)                       # select an action (for each agent)\n",
    "        env_info    = env.step(actions)[brain_name]           # send all actions to tne environment\n",
    "        next_states = env_info.vector_observations         # get next state (for each agent)\n",
    "        rewards     = env_info.rewards                         # get reward (for each agent)\n",
    "        dones       = env_info.local_done                        # see if episode finished\n",
    "\n",
    "        agents.step(states, actions, rewards, next_states, dones)\n",
    "        \n",
    "        states = next_states                               # roll over states to next time step\n",
    "        score += env_info.rewards                         # update the score (for each agent)\n",
    "        \n",
    "        if np.any(dones):                                  # exit loop if episode finished\n",
    "            break\n",
    "     \n",
    "    episode_score = np.mean(score)            # score averaged over agents    \n",
    "    scores_window.append(episode_score)       # save most recent episode score\n",
    "    scores.append(episode_score)              # save most recent episode score\n",
    "    #print('Total score (averaged over agents) this episode: {}'.format())\n",
    "    print('\\rEpisode {}\\tAverage Score (over agents): {:.2f}'.format(i_episode, episode_score), end=\"\")\n",
    "    if i_episode % 100 == 0:\n",
    "        print('\\rEpisode {}\\tAverage Score: {:.2f}'.format(i_episode, np.mean(scores_window)))\n",
    "    if np.mean(scores_window)>=desired_score:\n",
    "        print('\\nEnvironment solved in {:d} episodes!\\tAverage Score: {:.2f}'.format(i_episode-100, np.mean(scores_window)))\n",
    "        torch.save(agents.actor_local.state_dict(),   'checkpoint.pth')\n",
    "        torch.save(agents.actor_target.state_dict(),  'backup_actor_target.pth')\n",
    "        torch.save(agents.critic_local.state_dict(),  'backup_critic_local.pth')\n",
    "        torch.save(agents.critic_target.state_dict(), 'backup_critic_target.pth')\n",
    "        break\n"
   ]
  },
  {
   "cell_type": "markdown",
   "metadata": {},
   "source": [
    "When finished, you can close the environment."
   ]
  },
  {
   "cell_type": "code",
   "execution_count": null,
   "metadata": {},
   "outputs": [],
   "source": [
    "env.close()"
   ]
  },
  {
   "cell_type": "markdown",
   "metadata": {},
   "source": [
    "### 4. Was training successful?\n",
    "If training was successful, the desired score has been achieved.\n",
    "Let's see how: episode by episode (on average).  \n",
    "If training failed, run it again (you could also play with parameters before)."
   ]
  },
  {
   "cell_type": "code",
   "execution_count": null,
   "metadata": {},
   "outputs": [],
   "source": [
    "#import numpy as np\n",
    "!pip3 install box2d\n",
    "\n",
    "import matplotlib.pyplot as plt\n",
    "%matplotlib inline\n",
    "\n",
    "!python -m pip install pyvirtualdisplay\n",
    "from pyvirtualdisplay import Display\n",
    "display = Display(visible=0, size=(1400, 900))\n",
    "display.start()\n",
    "\n",
    "is_ipython = 'inline' in plt.get_backend()\n",
    "if is_ipython:\n",
    "    from IPython import display\n",
    "\n",
    "plt.ion()"
   ]
  },
  {
   "cell_type": "code",
   "execution_count": null,
   "metadata": {},
   "outputs": [],
   "source": [
    "# plot the scores\n",
    "fig = plt.figure()\n",
    "ax = fig.add_subplot(111)\n",
    "plt.plot(np.arange(len(scores)), scores)\n",
    "plt.ylabel('Score')\n",
    "plt.xlabel('Episode #')\n",
    "plt.show()"
   ]
  },
  {
   "cell_type": "markdown",
   "metadata": {},
   "source": [
    "# TESTING\n",
    "### 5. Agent in action!\n",
    "Let's see how the trained agent play!\n",
    "We'll load the trained model, checkpoint.pth .\n",
    "\n",
    "Note: this step can be run apart from the previous TRAINING steps; checkpoint.pth contains a pre-trained model.\n"
   ]
  },
  {
   "cell_type": "code",
   "execution_count": 1,
   "metadata": {},
   "outputs": [
    {
     "name": "stderr",
     "output_type": "stream",
     "text": [
      "INFO:unityagents:\n",
      "'Academy' started successfully!\n",
      "Unity Academy name: Academy\n",
      "        Number of Brains: 1\n",
      "        Number of External Brains : 1\n",
      "        Lesson number : 0\n",
      "        Reset Parameters :\n",
      "\t\tgoal_speed -> 1.0\n",
      "\t\tgoal_size -> 5.0\n",
      "Unity brain name: ReacherBrain\n",
      "        Number of Visual Observations (per agent): 0\n",
      "        Vector Observation space type: continuous\n",
      "        Vector Observation space size (per agent): 33\n",
      "        Number of stacked Vector Observation: 1\n",
      "        Vector Action space type: continuous\n",
      "        Vector Action space size (per agent): 4\n",
      "        Vector Action descriptions: , , , \n"
     ]
    },
    {
     "name": "stdout",
     "output_type": "stream",
     "text": [
      "Number of agents: 20\n",
      "Size of each action: 4\n",
      "There are 20 agents. Each observes a state with length: 33\n",
      "The state for the first agent looks like: [ 0.00000000e+00 -4.00000000e+00  0.00000000e+00  1.00000000e+00\n",
      " -0.00000000e+00 -0.00000000e+00 -4.37113883e-08  0.00000000e+00\n",
      "  0.00000000e+00  0.00000000e+00  0.00000000e+00  0.00000000e+00\n",
      "  0.00000000e+00  0.00000000e+00 -1.00000000e+01  0.00000000e+00\n",
      "  1.00000000e+00 -0.00000000e+00 -0.00000000e+00 -4.37113883e-08\n",
      "  0.00000000e+00  0.00000000e+00  0.00000000e+00  0.00000000e+00\n",
      "  0.00000000e+00  0.00000000e+00  5.75471878e+00 -1.00000000e+00\n",
      "  5.55726624e+00  0.00000000e+00  1.00000000e+00  0.00000000e+00\n",
      " -1.68164849e-01]\n"
     ]
    }
   ],
   "source": [
    "from unityagents import UnityEnvironment\n",
    "import numpy as np\n",
    "\n",
    "# version 2 (with 20 agents) of the environment\n",
    "env = UnityEnvironment(file_name='Reacher_Windows_x86_64\\Reacher.exe')\n",
    "\n",
    "# get the default brain\n",
    "brain_name = env.brain_names[0]\n",
    "brain = env.brains[brain_name]\n",
    "\n",
    "# reset the environment\n",
    "env_info = env.reset(train_mode=False)[brain_name]\n",
    "\n",
    "# number of agents\n",
    "num_agents = len(env_info.agents)\n",
    "print('Number of agents:', num_agents)\n",
    "\n",
    "# size of each action\n",
    "action_size = brain.vector_action_space_size\n",
    "print('Size of each action:', action_size)\n",
    "\n",
    "# examine the state space \n",
    "states = env_info.vector_observations\n",
    "state_size = states.shape[1]\n",
    "print('There are {} agents. Each observes a state with length: {}'.format(states.shape[0], state_size))\n",
    "print('The state for the first agent looks like:', states[0])"
   ]
  },
  {
   "cell_type": "code",
   "execution_count": 2,
   "metadata": {
    "scrolled": true
   },
   "outputs": [],
   "source": [
    "from cc_ddpg_agent import Agents\n",
    "import torch \n",
    "\n",
    "agents = Agents(num_agents, state_size, action_size, 4109)\n",
    "agents.load_to_cpu(path='checkpoint.pth')"
   ]
  },
  {
   "cell_type": "code",
   "execution_count": 3,
   "metadata": {},
   "outputs": [
    {
     "name": "stdout",
     "output_type": "stream",
     "text": [
      "\r",
      "Episode  Score (over agents): 36.72"
     ]
    }
   ],
   "source": [
    "env_info = env.reset(train_mode=True)[brain_name]      # reset the environment    \n",
    "states = env_info.vector_observations                  # get the current state (for each agent)\n",
    "score = np.zeros(num_agents)                          # initialize the score (for each agent)\n",
    "\n",
    "max_t = 1000\n",
    "for t in range(max_t):\n",
    "    actions     = agents.act(states)                       # select an action (for each agent)\n",
    "    env_info    = env.step(actions)[brain_name]           # send all actions to tne environment\n",
    "    next_states = env_info.vector_observations         # get next state (for each agent)\n",
    "    rewards     = env_info.rewards                         # get reward (for each agent)\n",
    "    dones       = env_info.local_done                        # see if episode finished\n",
    "    states = next_states                               # roll over states to next time step\n",
    "    score += env_info.rewards                         # update the score (for each agent)\n",
    "\n",
    "    if np.any(dones):                                  # exit loop if episode finished\n",
    "        break\n",
    "\n",
    "episode_score = np.mean(score)            # score averaged over agents    \n",
    "print('\\rEpisode  Score (over agents): {:.2f}'.format(episode_score), end=\"\")\n"
   ]
  },
  {
   "cell_type": "code",
   "execution_count": 4,
   "metadata": {},
   "outputs": [],
   "source": [
    "env.close()"
   ]
  },
  {
   "cell_type": "code",
   "execution_count": null,
   "metadata": {},
   "outputs": [],
   "source": []
  }
 ],
 "metadata": {
  "kernelspec": {
   "display_name": "drlnd",
   "language": "python",
   "name": "drlnd"
  },
  "language_info": {
   "codemirror_mode": {
    "name": "ipython",
    "version": 3
   },
   "file_extension": ".py",
   "mimetype": "text/x-python",
   "name": "python",
   "nbconvert_exporter": "python",
   "pygments_lexer": "ipython3",
   "version": "3.6.12"
  }
 },
 "nbformat": 4,
 "nbformat_minor": 2
}
